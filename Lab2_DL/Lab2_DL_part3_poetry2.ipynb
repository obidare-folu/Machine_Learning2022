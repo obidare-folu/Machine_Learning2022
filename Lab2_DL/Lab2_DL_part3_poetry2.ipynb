{
 "cells": [
  {
   "cell_type": "markdown",
   "metadata": {},
   "source": [
    "## Lab 2"
   ]
  },
  {
   "cell_type": "markdown",
   "metadata": {},
   "source": [
    "### Part 3. Poetry generation\n",
    "\n",
    "Let's try to generate some poetry using RNNs. \n",
    "\n",
    "You have several choices here: \n",
    "\n",
    "* The Shakespeare sonnets, file `sonnets.txt` available in the notebook directory.\n",
    "\n",
    "* Роман в стихах \"Евгений Онегин\" Александра Сергеевича Пушкина. В предобработанном виде доступен по [ссылке](https://github.com/attatrol/data_sources/blob/master/onegin.txt).\n",
    "\n",
    "* Some other text source, if it will be approved by the course staff.\n",
    "\n",
    "Text generation can be designed in several steps:\n",
    "    \n",
    "1. Data loading.\n",
    "2. Dictionary generation.\n",
    "3. Data preprocessing.\n",
    "4. Model (neural network) training.\n",
    "5. Text generation (model evaluation).\n"
   ]
  },
  {
   "cell_type": "code",
   "execution_count": 1,
   "metadata": {},
   "outputs": [],
   "source": [
    "import string\n",
    "import os\n",
    "import torch, torch.nn as nn\n",
    "import torch.nn.functional as F\n",
    "import torch, torch.nn as nn\n",
    "import torch.nn.functional as F\n",
    "import random\n",
    "from torch.autograd import Variable\n",
    "from matplotlib import pyplot as plt\n",
    "from pprint import pprint \n",
    "import numpy as np\n",
    "from sklearn.preprocessing import OneHotEncoder\n",
    "import pandas as pd"
   ]
  },
  {
   "cell_type": "markdown",
   "metadata": {},
   "source": [
    "### Data loading: Shakespeare"
   ]
  },
  {
   "cell_type": "markdown",
   "metadata": {},
   "source": [
    "Shakespeare sonnets are awailable at this [link](http://www.gutenberg.org/ebooks/1041?msg=welcome_stranger). In addition, they are stored in the same directory as this notebook (`sonnetes.txt`). Simple preprocessing is already done for you in the next cell: all technical info is dropped."
   ]
  },
  {
   "cell_type": "code",
   "execution_count": 2,
   "metadata": {},
   "outputs": [],
   "source": [
    "if not os.path.exists('sonnets.txt'):\n",
    "    !wget https://raw.githubusercontent.com/girafe-ai/ml-course/22f_basic/homeworks_basic/lab02_deep_learning/sonnets.txt\n",
    "\n",
    "with open('sonnets.txt', 'r') as iofile:\n",
    "    text = iofile.readlines()\n",
    "    \n",
    "TEXT_START = 45\n",
    "TEXT_END = -368\n",
    "lines = text[TEXT_START : TEXT_END]\n",
    "text = text[TEXT_START : TEXT_END]\n",
    "assert len(text) == 2616"
   ]
  },
  {
   "cell_type": "markdown",
   "metadata": {},
   "source": [
    "In opposite to the in-class practice, this time we want to predict complex text. Let's reduce the complexity of the task and lowercase all the symbols.\n",
    "\n",
    "Now variable `text` is a list of strings. Join all the strings into one and lowercase it."
   ]
  },
  {
   "cell_type": "code",
   "execution_count": 3,
   "metadata": {},
   "outputs": [
    {
     "name": "stdout",
     "output_type": "stream",
     "text": [
      "OK!\n"
     ]
    }
   ],
   "source": [
    "# Join all the strings into one and lowercase it\n",
    "# Put result into variable text.\n",
    "\n",
    "# Your great code here\n",
    "all_text = \"\"\n",
    "for sub_text in text:\n",
    "    all_text += sub_text\n",
    "    \n",
    "text = all_text.lower()\n",
    "lines = [line.lower() for line in lines]\n",
    "\n",
    "assert len(text) == 100225, 'Are you sure you have concatenated all the strings?'\n",
    "assert not any([x in set(text) for x in string.ascii_uppercase]), 'Uppercase letters are present'\n",
    "print('OK!')"
   ]
  },
  {
   "cell_type": "markdown",
   "metadata": {},
   "source": [
    "Put all the characters, that you've seen in the text, into variable `tokens`."
   ]
  },
  {
   "cell_type": "code",
   "execution_count": 5,
   "metadata": {},
   "outputs": [],
   "source": [
    "tokens = sorted(set(text))"
   ]
  },
  {
   "cell_type": "code",
   "execution_count": 6,
   "metadata": {},
   "outputs": [
    {
     "name": "stdout",
     "output_type": "stream",
     "text": [
      "['\\n', ' ', '!', \"'\", '(', ')', ',', '-', '.', ':', ';', '?', 'a', 'b', 'c', 'd', 'e', 'f', 'g', 'h', 'i', 'j', 'k', 'l', 'm', 'n', 'o', 'p', 'q', 'r', 's', 't', 'u', 'v', 'w', 'x', 'y', 'z']\n"
     ]
    }
   ],
   "source": [
    "print(tokens)"
   ]
  },
  {
   "cell_type": "markdown",
   "metadata": {},
   "source": [
    "Create dictionary `token_to_idx = {<char>: <index>}` and dictionary `idx_to_token = {<index>: <char>}`"
   ]
  },
  {
   "cell_type": "code",
   "execution_count": 7,
   "metadata": {},
   "outputs": [],
   "source": [
    "# dict <index>:<char>\n",
    "# Your great code here\n",
    "token_to_idx = {token: index for index, token in enumerate(tokens)}\n",
    "\n",
    "# dict <char>:<index>\n",
    "# Your great code here\n",
    "idx_to_token = {index: token for index, token in enumerate(tokens)}"
   ]
  },
  {
   "cell_type": "markdown",
   "metadata": {},
   "source": [
    "*Comment: in this task we have only 38 different tokens, so let's use one-hot encoding.*"
   ]
  },
  {
   "cell_type": "markdown",
   "metadata": {},
   "source": [
    "### Building the model"
   ]
  },
  {
   "cell_type": "markdown",
   "metadata": {},
   "source": [
    "Now we want to build and train recurrent neural net which would be able to something similar to Shakespeare's poetry.\n",
    "\n",
    "Let's use vanilla RNN, similar to the one created during the lesson."
   ]
  },
  {
   "cell_type": "code",
   "execution_count": 107,
   "metadata": {},
   "outputs": [],
   "source": [
    "def word_from_tokens(tokens):\n",
    "    return np.array([token_to_idx[token] for token in tokens])\n",
    "\n",
    "def sentectence_to_tokens(batch):\n",
    "    return np.concatenate(list(map(word_from_tokens, batch)))\n",
    "\n",
    "def shape_text(text, max_tokens_len):\n",
    "    joined_text = \" \".join(text)\n",
    "    n_tokens = len(joined_text) // max_tokens_len\n",
    "    reshaped_text = []\n",
    "    for i in range(0, n_tokens * max_tokens_len, max_tokens_len):\n",
    "        reshaped_text.append(joined_text[i:i+max_tokens_len])\n",
    "    return reshaped_text\n",
    "\n",
    "def to_matrix(text, max_len=None, dtype: str='int32', batch_first=True):\n",
    "    size = max_len or max(map(len, text))\n",
    "    matrix = np.zeros([len(text), size], dtype)\n",
    "    for i in range(len(text)):\n",
    "        line_ix = sentectence_to_tokens([text[i]])\n",
    "        matrix[i, :len(line_ix)] = line_ix\n",
    "    if not batch_first:\n",
    "        matrix = np.transpose(matrix)\n",
    "    return torch.tensor(matrix, dtype=torch.int64)"
   ]
  },
  {
   "cell_type": "code",
   "execution_count": 8,
   "metadata": {},
   "outputs": [],
   "source": [
    "# Your code here\n",
    "class VanillaCharRNN(nn.Module):\n",
    "   \n",
    "    def __init__(self, num_tokens=len(tokens), embedding_size=64, rnn_num_units=128):\n",
    "        super(VanillaCharRNN, self).__init__()\n",
    "        self.rnn_num_units = rnn_num_units\n",
    "        self.embedding = nn.Embedding(num_tokens, embedding_size)\n",
    "        self.rnn = nn.RNN(embedding_size, rnn_num_units, batch_first=True)\n",
    "        self.linear = nn.Linear(rnn_num_units, num_tokens)\n",
    "        \n",
    "    def forward(self, x, h_prev):\n",
    "        x_emb = self.embedding(x)\n",
    "        out, h_next = self.rnn(x_emb, h_prev)\n",
    "        logits = self.linear(out)\n",
    "        return h_next, logits\n",
    "    \n",
    "    def initial_state(self, batch_size):\n",
    "        return torch.zeros(1, batch_size, self.rnn_num_units, requires_grad=True)\n",
    "    \n",
    "def rnn_epoch(model, hidden_state, all_batches, batch_size):\n",
    "    n_batches = all_batches.shape[0] // batch_size\n",
    "    loss = nn.CrossEntropyLoss()\n",
    "    epoch_loss = 0.0\n",
    "\n",
    "    for i in range(0, n_batches * batch_size, batch_size):\n",
    "        batch_ix = all_batches[i:i+batch_size]\n",
    "        hidden_state, out = model(batch_ix, hidden_state)\n",
    "        actual_next_tokens = batch_ix[:, 1:]\n",
    "\n",
    "        batch_loss = loss(out[:, :-1].reshape(-1, len(tokens)), actual_next_tokens.reshape(-1))\n",
    "        batch_loss.backward()\n",
    "\n",
    "        optimizer.step()\n",
    "        optimizer.zero_grad()\n",
    "        \n",
    "        epoch_loss += batch_loss.item()\n",
    "        hidden_state.detach_()\n",
    "        hidden_state = hidden_state.detach()\n",
    "\n",
    "    epoch_loss /= n_batches\n",
    "    return hidden_state, epoch_loss\n",
    "\n"
   ]
  },
  {
   "cell_type": "code",
   "execution_count": 108,
   "metadata": {},
   "outputs": [],
   "source": [
    "def train(model, n_epochs, optimizer=None, max_tokens_len=10, batch_size=10):\n",
    "    losses = []\n",
    "    shaped_text = shape_text(text, max_tokens_len)\n",
    "    all_batches = to_matrix(shaped_text, max_tokens_len)\n",
    "    state = model.initial_state(batch_size)\n",
    "\n",
    "    for epoch in range(n_epochs):\n",
    "        print(\"{}-th epoch of {}\".format(epoch + 1, n_epochs))\n",
    "        state, epoch_loss = rnn_epoch(model, state, all_batches, batch_size)\n",
    "        losses.append(epoch_loss)\n",
    "\n",
    "    return losses, state"
   ]
  },
  {
   "cell_type": "code",
   "execution_count": null,
   "metadata": {},
   "outputs": [],
   "source": [
    "%%time\n",
    "model = VanillaCharRNN()\n",
    "optimizer = torch.optim.Adam(model.parameters())\n",
    "vanilla_losses, vanilla_state = train(model, 100, optimizer)"
   ]
  },
  {
   "cell_type": "markdown",
   "metadata": {},
   "source": [
    "Plot the loss function (axis X: number of epochs, axis Y: loss function)."
   ]
  },
  {
   "cell_type": "code",
   "execution_count": 29,
   "metadata": {},
   "outputs": [],
   "source": [
    "# Your plot code here\n",
    "def plot_loss(losses: list, title: str=None):\n",
    "    fig = plt.figure(figsize=(15, 10))\n",
    "    if title is not None:\n",
    "        plt.title(title)\n",
    "    plt.plot(losses)\n",
    "    plt.ylabel('Loss')\n",
    "    plt.xlabel('Number of Epochs')\n",
    "    plt.show()"
   ]
  },
  {
   "cell_type": "code",
   "execution_count": 30,
   "metadata": {},
   "outputs": [
    {
     "data": {
      "image/png": "[encoded data removed]",
      "text/plain": [
       "<Figure size 1080x720 with 1 Axes>"
      ]
     },
     "metadata": {
      "needs_background": "light"
     },
     "output_type": "display_data"
    }
   ],
   "source": [
    "plot_loss(vanilla_losses)"
   ]
  },
  {
   "cell_type": "code",
   "execution_count": 48,
   "metadata": {},
   "outputs": [],
   "source": [
    "\n",
    "\n",
    "def generate_sample(model, seed_phrase=' ', max_length=400, temperature=1.0):\n",
    "    x_sequence = [token_to_idx[token] for token in seed_phrase]\n",
    "    x_sequence = torch.tensor([[x_sequence]], dtype=torch.long)\n",
    "    states = model.initial_state(batch_size=1)\n",
    "    \n",
    "    for i in range(len(seed_phrase) - 1):\n",
    "        states, _ = model(x_sequence[:, :, i], states)\n",
    "\n",
    "    for _ in range(max_length - len(seed_phrase)):\n",
    "        states, out = model(x_sequence[:,:, -1], states)\n",
    "        p_next = F.softmax(out / temperature, dim=-1).data.numpy()[0].ravel()\n",
    "        \n",
    "        next_ix = np.random.choice(len(tokens), p=p_next)\n",
    "        next_ix = torch.tensor([[[next_ix]]], dtype=torch.long)\n",
    "        x_sequence = torch.cat([x_sequence, next_ix], dim=2)\n",
    "        string = ''.join([tokens[ix] for ix in x_sequence.data.numpy()[0][0]])\n",
    "        final_string = \"\"\n",
    "        for index, char in enumerate(string[:-1]):\n",
    "            if char == \" \":\n",
    "                if string[index + 1] == \" \":\n",
    "                    final_string += \" \"\n",
    "            else:\n",
    "                final_string += char\n",
    "    return final_string"
   ]
  },
  {
   "cell_type": "code",
   "execution_count": 110,
   "metadata": {},
   "outputs": [
    {
     "name": "stdout",
     "output_type": "stream",
     "text": [
      "  from fairest creatures we desire increase,\n",
      "  that thereby beauty's rose might never die,\n",
      "  but as the riper should by time decease,\n",
      "  his tender heir might bear his memory:\n",
      "  but thou, contracted to thine own bright eyes,\n",
      "  feed'st thy light's flame with self-substantial fuel,\n",
      "  making a famine where abundance lies,\n",
      "  thy self thy foe, to thy sweet self too cruel:\n",
      "  thou that art now the world's fresh ornament,\n",
      "  and only herald to the gaudy spring,\n",
      "  within thine own bud buriest thy content,\n",
      "  and tender churl mak'st waste in niggarding:\n",
      "    pity the world, or else this glutton be,\n",
      "    to eat the world's due, by the grave and thee.\n",
      "\n",
      "  ii\n",
      "\n",
      "  when forty winters shall besiege thy brow,\n",
      "  and dig deep trenches in thy beauty's field,\n",
      "  thy youth's proud livery so gazed on now,\n",
      "  will be a tatter'd weed of small worth held:\n",
      "  then being asked, where all thy beauty lies,\n",
      "  where all the treasure of thy lusty days;\n",
      "  to say, within thine own deep sunken eyes,\n",
      "  were an all-eating shame, and\n"
     ]
    }
   ],
   "source": [
    "print(text[:1000])"
   ]
  },
  {
   "cell_type": "code",
   "execution_count": 40,
   "metadata": {},
   "outputs": [
    {
     "name": "stdout",
     "output_type": "stream",
     "text": [
      "hide my will in thine?\n",
      "  shall will in of the simend that in my sime the seave the seave the sorll the soren the sange the seall seares and and the fart the wirl the seall the songh whing that thou hall will thoun the soond beare the with that sare the simest me the fart the wirl the songre the with thy seart so for shat so for do the dost the sing the sing the sing the soond canding the sack and the farling the wirl of sore sich and that with the seare the seall so fort the with the past the wirl the simen the wirl the sores the sare\n"
     ]
    }
   ],
   "source": [
    "# An example of generated text.\n",
    "# print(generate_text(length=500, temperature=0.2))"
   ]
  },
  {
   "cell_type": "code",
   "execution_count": 62,
   "metadata": {},
   "outputs": [
    {
     "name": "stdout",
     "output_type": "stream",
     "text": [
      "\n",
      "\tTemperature: 0.1\n",
      "cupid  hearthe  be  and  the  fall  the  the  lies  and  the  be  the  live  that  the  fair  the  live  the  here  the  lies  and  the  beauty  fair  the  be  and  the  be  the  fair  the  be  the  be  i  be  with  the  be  and  the  be  and  the  be  the  love  and  the  beauty  stre  be  i  be  the  love  an\n",
      "\n",
      "\tTemperature: 0.2\n",
      "cupid  in  that  this  be  be  be  beauty  and  and  the  hat  thee  be  beauty  and  the  the  the  the  fair  beauty  the  be  and  the  of  the  the  with  the  be  and  the  be  a  make  are  thee  the  hearthe  the  for  fall  here,\n",
      "    the  love  love  be  be  beauty  the  best  my  stars  and  my  love\n",
      "\n",
      "\tTemperature: 0.5\n",
      "cupid--\n",
      "    here  stith  for  such  sweet  i  in  thee  live  self  less  that  so  self  thee,\n",
      "    thy  love  but  might  beavent  this  here,\n",
      "    and  for's  do  the  lie,\n",
      "    and  seed  but  my  be  ou  be  see  i  bespus  not  n  my  spose  best  my  pries  i  the  sight,\n",
      "        that  so  blis  cries,\n",
      "    \n",
      "\n",
      "\tTemperature: 1.0\n",
      "cupid  for  in  thy  formonce  so  his  ve  all  'with  thaye  tr  e  thy  my  liggh  thy  and  nonglack  hold  le  bucais'see  thown''  ine,  go  dishead;\n",
      "    me,  and  his  dwhich  f  fall  thy  to  do  why  hough  nin  mand  harn  sweffor-d  is,  har  uprill,  and  or,  but  yet  day  thee,\n",
      "    and  d\n",
      "\n",
      "\tTemperature: 2.0\n",
      "cupidcll  th  n\n",
      "ned  lo  bud.\n",
      "\n",
      "  whaltck,  ''s  hetsem  yournu  tw  brar  wnbaigh'plii\n",
      "\n",
      "    cy,  here;ewer-ck  d  canf  dy\n",
      "\n",
      "  d\n",
      " ti  hard?\n",
      "  niggzishelt;\n",
      " p\n",
      "'  unate  gltiow.\n",
      "    wh\n",
      "lury:waid  'd  tell  leair.t\n",
      " ki  wific'd;\n",
      "    oobfroule!\n",
      "  hugil.\n",
      "  nisitynssamysn:\n",
      "    our?\n",
      " nparentrh's\n",
      "\n",
      "  ade\n"
     ]
    }
   ],
   "source": [
    "for t in [0.1, 0.2, 0.5, 1.0, 2.0]:\n",
    "    print(f\"\\n\\tTemperature: {t}\")\n",
    "    print(generate_sample(model, seed_phrase=\"cupid\", temperature=t, max_length=500))"
   ]
  },
  {
   "cell_type": "markdown",
   "metadata": {},
   "source": [
    "### More poetic model\n",
    "\n",
    "Let's use LSTM instead of vanilla RNN and compare the results."
   ]
  },
  {
   "cell_type": "markdown",
   "metadata": {},
   "source": [
    "Plot the loss function of the number of epochs. Does the final loss become better?"
   ]
  },
  {
   "cell_type": "code",
   "execution_count": 76,
   "metadata": {},
   "outputs": [],
   "source": [
    "class LSTMCharRNN(nn.Module):\n",
    "\n",
    "    def __init__(self, num_tokens=len(tokens), embedding_size=64, rnn_num_units=128):\n",
    "        super(LSTMCharRNN, self).__init__()\n",
    "        self.rnn_num_units = rnn_num_units\n",
    "        self.embedding = nn.Embedding(num_tokens, embedding_size)\n",
    "        self.lstm = nn.LSTM(embedding_size, rnn_num_units, batch_first=True)\n",
    "        self.linear = nn.Linear(rnn_num_units, num_tokens)\n",
    "        \n",
    "    def forward(self, x, states=None):\n",
    "        x_emb = self.embedding(x)\n",
    "        if states is None:\n",
    "            states = initial_state(1)\n",
    "        out, states = self.lstm(x_emb, states)\n",
    "        \n",
    "        logits = self.linear(out)\n",
    "        return states, logits\n",
    "    \n",
    "    def initial_state(self, batch_size):\n",
    "        return (torch.zeros(1, batch_size, self.rnn_num_units, requires_grad=True),\n",
    "            torch.zeros(1, batch_size, self.rnn_num_units, requires_grad=True))"
   ]
  },
  {
   "cell_type": "code",
   "execution_count": 77,
   "metadata": {},
   "outputs": [],
   "source": [
    "def rnn_epoch_lstm(model, states, all_batches, batch_size):\n",
    "    n_batches = all_batches.shape[0] // batch_size\n",
    "    loss = nn.CrossEntropyLoss()\n",
    "    epoch_loss = 0.0\n",
    "\n",
    "    for i in range(0, n_batches * batch_size, batch_size):\n",
    "        batch_ix = all_batches[i:i+batch_size]\n",
    "        states, out = model(batch_ix, states)\n",
    "        hidden_state, cell_state = states\n",
    "        actual_next_tokens = batch_ix[:, 1:]\n",
    "\n",
    "        batch_loss = loss(out[:, :-1].reshape(-1, len(tokens)), actual_next_tokens.reshape(-1))\n",
    "        batch_loss.backward()\n",
    "\n",
    "        optimizer.step()\n",
    "        optimizer.zero_grad()\n",
    "\n",
    "        epoch_loss += batch_loss.item()\n",
    "\n",
    "        hidden_state.detach_()\n",
    "        hidden_state = hidden_state.detach()\n",
    "\n",
    "        cell_state.detach_()\n",
    "        cell_state = cell_state.detach()\n",
    "\n",
    "        states = hidden_state, cell_state\n",
    "        \n",
    "    epoch_loss /= n_batches\n",
    "    return states, epoch_loss"
   ]
  },
  {
   "cell_type": "code",
   "execution_count": 109,
   "metadata": {},
   "outputs": [],
   "source": [
    "def train_lstm(model, n_epochs, optimizer=None, max_tokens_len=10, batch_size=10):\n",
    "    losses = []\n",
    "    shaped_text = shape_text(text, max_tokens_len)\n",
    "    all_batches = to_matrix(shaped_text, max_tokens_len)\n",
    "    state = model.initial_state(batch_size)\n",
    "\n",
    "    for epoch in range(n_epochs):\n",
    "        print(\"{}-th epoch of {}\".format(epoch + 1, n_epochs))\n",
    "        state, epoch_loss = rnn_epoch_lstm(model, state, all_batches, batch_size)\n",
    "        losses.append(epoch_loss)\n",
    "\n",
    "    return losses, state"
   ]
  },
  {
   "cell_type": "code",
   "execution_count": null,
   "metadata": {
    "scrolled": true
   },
   "outputs": [],
   "source": [
    "lstm_model = LSTMCharRNN()\n",
    "optimizer = torch.optim.Adam(lstm_model.parameters())\n",
    "\n",
    "lstm_losses, lstm_states = train_lstm(lstm_model, 100, optimizer)\n"
   ]
  },
  {
   "cell_type": "code",
   "execution_count": 80,
   "metadata": {},
   "outputs": [
    {
     "data": {
      "image/png": "[encoded data removed]",
      "text/plain": [
       "<Figure size 1080x720 with 1 Axes>"
      ]
     },
     "metadata": {
      "needs_background": "light"
     },
     "output_type": "display_data"
    }
   ],
   "source": [
    "plot_loss(lstm_losses)"
   ]
  },
  {
   "cell_type": "markdown",
   "metadata": {},
   "source": [
    "Generate text using the trained net with different `temperature` parameter: `[0.1, 0.2, 0.5, 1.0, 2.0]`.\n",
    "\n",
    "Evaluate the results visually, try to interpret them."
   ]
  },
  {
   "cell_type": "code",
   "execution_count": 105,
   "metadata": {},
   "outputs": [
    {
     "name": "stdout",
     "output_type": "stream",
     "text": [
      "\n",
      "\tTemperature: 0.1\n",
      "virginsthy  seek  so  grace\n",
      "    what  heart  fair  world  in  my  so  power  the  thy  heare  our  sweet  fair  st  the  the  thou  the  the  the  the  the  thou  the  the  the  for  my  my  strest  the  the  thou  the  the  the  the  the  thou  the  the  the  the  the  thou  the  the  the  the  the  thou  th\n",
      "\n",
      "\tTemperature: 0.2\n",
      "virginsthy  spor'st  my  my  love\n",
      "    and  be  thee  leare-foul  beare  i  be  not  fair,\n",
      "    and  bod;\n",
      "    thy  strais  my  form'd  for  my  self  the  thy  heare  our  se  bad  hath  me  love  i  love,\n",
      "    the  the  the  fart  the  the  thy  heare  have  straise,  faire  the  for  my  love,  and  i  so  st\n",
      "\n",
      "\tTemperature: 0.5\n",
      "virginsthy  swear  from      that  thy  heavent  i  thy  heruth  corn,\n",
      "    and  and  i  have  i  batine,  bose  have  bare  bastrand  my  self,  theeng  this  my  beauty  me  ring  the  the  frieies  dothis  my  say  stal  be?\n",
      "    and  bounderve?\n",
      "    cruess\n",
      "    and  be  with  not  for  my  ster  shald  la\n",
      "\n",
      "\tTemperature: 1.0\n",
      "virginsch  my  love  a  basou,\n",
      "  send.\n",
      "\n",
      "    for  or  utherir'st  boar  seem  d  sweep,\n",
      "    my  ark,  heart,\n",
      "  'sply,\n",
      "    againsees  hav'd  fear  new,\n",
      "      but  my  self  nok  on  therin,\n",
      "    but  as  cawhoughtne  eys  namer  ll  gle  sun    frece\n",
      "    a  betellie  hough  a  fack,\n",
      "    for  steps    eyeshy  \n",
      "\n",
      "\tTemperature: 2.0\n",
      "virginniaic  brgain.\n",
      "\n",
      " o  wor'flos'd  ui'tis  she  liwe  worhona    so  thy  reid  lonwaseris,  anove,  nor,  'hentingu  shelf  y  forgery?\n",
      "    doing:\n",
      " onfond:  atime?\n",
      "    ve   f  yountrn,  b:\n",
      "      ng  eo,  yet  n  sespoi  to  de-toscy?\n",
      " ,  so!  ndn.\n",
      "  k,\n",
      "    ns,  yf  of  cl's  groelion  pootweens:\n"
     ]
    }
   ],
   "source": [
    "# Text generation with different temperature values here\n",
    "for t in [0.1, 0.2, 0.5, 1.0, 2.0]:\n",
    "    print(f\"\\n\\tTemperature: {t}\")\n",
    "    print(generate_sample(lstm_model, seed_phrase=\"virgin\", temperature=t, max_length=500))"
   ]
  },
  {
   "cell_type": "markdown",
   "metadata": {},
   "source": [
    "### Saving and loading models"
   ]
  },
  {
   "cell_type": "markdown",
   "metadata": {},
   "source": [
    "Save the model to the disk, then load it and generate text. Examples are available [here](https://pytorch.org/tutorials/beginner/saving_loading_models.html])."
   ]
  },
  {
   "cell_type": "code",
   "execution_count": 106,
   "metadata": {},
   "outputs": [
    {
     "data": {
      "text/plain": [
       "LSTMCharRNN(\n",
       "  (embedding): Embedding(38, 64)\n",
       "  (lstm): LSTM(64, 128, batch_first=True)\n",
       "  (linear): Linear(in_features=128, out_features=38, bias=True)\n",
       ")"
      ]
     },
     "execution_count": 106,
     "metadata": {},
     "output_type": "execute_result"
    }
   ],
   "source": [
    "# Saving and loading code here\n",
    "torch.save(lstm_model.state_dict(), 'lstm_sonnet.pth')\n",
    "new_lstm_model = LSTMCharRNN()\n",
    "new_lstm_model.load_state_dict(torch.load('lstm_sonnet.pth'))\n",
    "new_lstm_model.eval()"
   ]
  },
  {
   "cell_type": "markdown",
   "metadata": {},
   "source": [
    "### References\n",
    "1. <a href='http://karpathy.github.io/2015/05/21/rnn-effectiveness/'> Andrew Karpathy blog post about RNN. </a> \n",
    "There are several examples of genration: Shakespeare texts, Latex formulas, Linux Sourse Code and children names.\n",
    "2. <a href='https://github.com/karpathy/char-rnn'> Repo with char-rnn code </a>\n",
    "3. Cool repo with PyTorch examples: [link](https://github.com/spro/practical-pytorch`)"
   ]
  }
 ],
 "metadata": {
  "anaconda-cloud": {},
  "kernelspec": {
   "display_name": "Python 3",
   "language": "python",
   "name": "python3"
  },
  "language_info": {
   "codemirror_mode": {
    "name": "ipython",
    "version": 3
   },
   "file_extension": ".py",
   "mimetype": "text/x-python",
   "name": "python",
   "nbconvert_exporter": "python",
   "pygments_lexer": "ipython3",
   "version": "3.8.6rc1"
  }
 },
 "nbformat": 4,
 "nbformat_minor": 2
}
