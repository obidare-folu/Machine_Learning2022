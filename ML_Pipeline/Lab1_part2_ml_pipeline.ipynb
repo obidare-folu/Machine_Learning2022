{
 "cells": [
  {
   "cell_type": "markdown",
   "metadata": {
    "nbgrader": {
     "grade": false,
     "grade_id": "cell-86e0de040aac317a",
     "locked": true,
     "schema_version": 2,
     "solution": false
    }
   },
   "source": [
    "# Lab assignment №1, part 2\n",
    "\n",
    "This lab assignment consists of several parts. You are supposed to make some transformations, train some models, estimate the quality of the models and explain your results.\n",
    "\n",
    "Several comments:\n",
    "* Don't hesitate to ask questions, it's a good practice.\n",
    "* No private/public sharing, please. The copied assignments will be graded with 0 points.\n",
    "* Blocks of this lab will be graded separately."
   ]
  },
  {
   "cell_type": "markdown",
   "metadata": {},
   "source": [
    "__*This is the second part of the assignment. First and third parts are waiting for you in the same directory.*__"
   ]
  },
  {
   "cell_type": "markdown",
   "metadata": {
    "nbgrader": {
     "grade": false,
     "grade_id": "cell-512ba712fc0fc065",
     "locked": true,
     "schema_version": 2,
     "solution": false
    }
   },
   "source": [
    "## Part 2. Data preprocessing, model training and evaluation."
   ]
  },
  {
   "cell_type": "markdown",
   "metadata": {
    "nbgrader": {
     "grade": false,
     "grade_id": "cell-b656a4266174b009",
     "locked": true,
     "schema_version": 2,
     "solution": false
    }
   },
   "source": [
    "### 1. Reading the data\n",
    "Today we work with the [dataset](https://archive.ics.uci.edu/ml/datasets/Statlog+%28Vehicle+Silhouettes%29), describing different cars for multiclass ($k=4$) classification problem. The data is available below."
   ]
  },
  {
   "cell_type": "code",
   "execution_count": 1,
   "metadata": {},
   "outputs": [
    {
     "name": "stderr",
     "output_type": "stream",
     "text": [
      "\"wget\" ­Ґ пў«пҐвбп ў­гваҐ­­Ґ© Ё«Ё ў­Ґи­Ґ©\n",
      "Є®¬ ­¤®©, ЁбЇ®«­пҐ¬®© Їа®Ја ¬¬®© Ё«Ё Ї ЄҐв­л¬ д ©«®¬.\n"
     ]
    }
   ],
   "source": [
    "# If on colab, uncomment the following lines\n",
    "\n",
    "! wget https://raw.githubusercontent.com/girafe-ai/ml-course/22f_made/homeworks/lab01_ml_pipeline/car_data.csv"
   ]
  },
  {
   "cell_type": "code",
   "execution_count": 2,
   "metadata": {
    "nbgrader": {
     "grade": false,
     "grade_id": "cell-eebac6bfdf73d0bc",
     "locked": true,
     "schema_version": 2,
     "solution": false
    }
   },
   "outputs": [
    {
     "name": "stdout",
     "output_type": "stream",
     "text": [
      "(846, 19) (846,)\n",
      "(549, 19) (549,) (297, 19) (297,)\n"
     ]
    }
   ],
   "source": [
    "import pandas as pd\n",
    "import numpy as np\n",
    "from sklearn.model_selection import train_test_split\n",
    "import warnings\n",
    "warnings.filterwarnings('ignore')\n",
    "\n",
    "dataset = pd.read_csv('car_data.csv', delimiter=',', header=None).values\n",
    "data = dataset[:, :-1].astype(int)\n",
    "target = dataset[:, -1]\n",
    "\n",
    "print(data.shape, target.shape)\n",
    "\n",
    "X_train, X_test, y_train, y_test = train_test_split(data, target, test_size=0.35)\n",
    "print(X_train.shape, y_train.shape, X_test.shape, y_test.shape)"
   ]
  },
  {
   "cell_type": "markdown",
   "metadata": {
    "nbgrader": {
     "grade": false,
     "grade_id": "cell-88b1a0f688568f2c",
     "locked": true,
     "schema_version": 2,
     "solution": false
    }
   },
   "source": [
    "To get some insights about the dataset, `pandas` might be used. The `train` part is transformed to `pd.DataFrame` below."
   ]
  },
  {
   "cell_type": "code",
   "execution_count": 3,
   "metadata": {},
   "outputs": [
    {
     "data": {
      "text/html": [
       "<div>\n",
       "<style scoped>\n",
       "    .dataframe tbody tr th:only-of-type {\n",
       "        vertical-align: middle;\n",
       "    }\n",
       "\n",
       "    .dataframe tbody tr th {\n",
       "        vertical-align: top;\n",
       "    }\n",
       "\n",
       "    .dataframe thead th {\n",
       "        text-align: right;\n",
       "    }\n",
       "</style>\n",
       "<table border=\"1\" class=\"dataframe\">\n",
       "  <thead>\n",
       "    <tr style=\"text-align: right;\">\n",
       "      <th></th>\n",
       "      <th>0</th>\n",
       "      <th>1</th>\n",
       "      <th>2</th>\n",
       "      <th>3</th>\n",
       "      <th>4</th>\n",
       "      <th>5</th>\n",
       "      <th>6</th>\n",
       "      <th>7</th>\n",
       "      <th>8</th>\n",
       "      <th>9</th>\n",
       "      <th>10</th>\n",
       "      <th>11</th>\n",
       "      <th>12</th>\n",
       "      <th>13</th>\n",
       "      <th>14</th>\n",
       "      <th>15</th>\n",
       "      <th>16</th>\n",
       "      <th>17</th>\n",
       "      <th>18</th>\n",
       "    </tr>\n",
       "  </thead>\n",
       "  <tbody>\n",
       "    <tr>\n",
       "      <th>0</th>\n",
       "      <td>828</td>\n",
       "      <td>89</td>\n",
       "      <td>42</td>\n",
       "      <td>66</td>\n",
       "      <td>125</td>\n",
       "      <td>53</td>\n",
       "      <td>7</td>\n",
       "      <td>131</td>\n",
       "      <td>51</td>\n",
       "      <td>18</td>\n",
       "      <td>144</td>\n",
       "      <td>162</td>\n",
       "      <td>254</td>\n",
       "      <td>162</td>\n",
       "      <td>73</td>\n",
       "      <td>10</td>\n",
       "      <td>17</td>\n",
       "      <td>188</td>\n",
       "      <td>191</td>\n",
       "    </tr>\n",
       "    <tr>\n",
       "      <th>1</th>\n",
       "      <td>120</td>\n",
       "      <td>89</td>\n",
       "      <td>37</td>\n",
       "      <td>54</td>\n",
       "      <td>119</td>\n",
       "      <td>53</td>\n",
       "      <td>5</td>\n",
       "      <td>134</td>\n",
       "      <td>50</td>\n",
       "      <td>18</td>\n",
       "      <td>127</td>\n",
       "      <td>151</td>\n",
       "      <td>266</td>\n",
       "      <td>146</td>\n",
       "      <td>79</td>\n",
       "      <td>16</td>\n",
       "      <td>14</td>\n",
       "      <td>184</td>\n",
       "      <td>185</td>\n",
       "    </tr>\n",
       "    <tr>\n",
       "      <th>2</th>\n",
       "      <td>292</td>\n",
       "      <td>87</td>\n",
       "      <td>42</td>\n",
       "      <td>76</td>\n",
       "      <td>159</td>\n",
       "      <td>65</td>\n",
       "      <td>5</td>\n",
       "      <td>155</td>\n",
       "      <td>42</td>\n",
       "      <td>19</td>\n",
       "      <td>138</td>\n",
       "      <td>184</td>\n",
       "      <td>362</td>\n",
       "      <td>157</td>\n",
       "      <td>76</td>\n",
       "      <td>6</td>\n",
       "      <td>12</td>\n",
       "      <td>189</td>\n",
       "      <td>193</td>\n",
       "    </tr>\n",
       "    <tr>\n",
       "      <th>3</th>\n",
       "      <td>287</td>\n",
       "      <td>88</td>\n",
       "      <td>43</td>\n",
       "      <td>84</td>\n",
       "      <td>136</td>\n",
       "      <td>55</td>\n",
       "      <td>11</td>\n",
       "      <td>154</td>\n",
       "      <td>44</td>\n",
       "      <td>19</td>\n",
       "      <td>150</td>\n",
       "      <td>174</td>\n",
       "      <td>350</td>\n",
       "      <td>164</td>\n",
       "      <td>73</td>\n",
       "      <td>6</td>\n",
       "      <td>2</td>\n",
       "      <td>185</td>\n",
       "      <td>196</td>\n",
       "    </tr>\n",
       "    <tr>\n",
       "      <th>4</th>\n",
       "      <td>554</td>\n",
       "      <td>113</td>\n",
       "      <td>48</td>\n",
       "      <td>98</td>\n",
       "      <td>208</td>\n",
       "      <td>62</td>\n",
       "      <td>9</td>\n",
       "      <td>203</td>\n",
       "      <td>33</td>\n",
       "      <td>23</td>\n",
       "      <td>151</td>\n",
       "      <td>216</td>\n",
       "      <td>613</td>\n",
       "      <td>183</td>\n",
       "      <td>64</td>\n",
       "      <td>17</td>\n",
       "      <td>29</td>\n",
       "      <td>193</td>\n",
       "      <td>204</td>\n",
       "    </tr>\n",
       "    <tr>\n",
       "      <th>5</th>\n",
       "      <td>725</td>\n",
       "      <td>91</td>\n",
       "      <td>37</td>\n",
       "      <td>76</td>\n",
       "      <td>138</td>\n",
       "      <td>55</td>\n",
       "      <td>8</td>\n",
       "      <td>132</td>\n",
       "      <td>51</td>\n",
       "      <td>18</td>\n",
       "      <td>135</td>\n",
       "      <td>157</td>\n",
       "      <td>256</td>\n",
       "      <td>124</td>\n",
       "      <td>69</td>\n",
       "      <td>0</td>\n",
       "      <td>12</td>\n",
       "      <td>191</td>\n",
       "      <td>192</td>\n",
       "    </tr>\n",
       "    <tr>\n",
       "      <th>6</th>\n",
       "      <td>410</td>\n",
       "      <td>89</td>\n",
       "      <td>45</td>\n",
       "      <td>77</td>\n",
       "      <td>188</td>\n",
       "      <td>64</td>\n",
       "      <td>9</td>\n",
       "      <td>161</td>\n",
       "      <td>41</td>\n",
       "      <td>20</td>\n",
       "      <td>151</td>\n",
       "      <td>190</td>\n",
       "      <td>390</td>\n",
       "      <td>174</td>\n",
       "      <td>66</td>\n",
       "      <td>4</td>\n",
       "      <td>2</td>\n",
       "      <td>194</td>\n",
       "      <td>201</td>\n",
       "    </tr>\n",
       "    <tr>\n",
       "      <th>7</th>\n",
       "      <td>457</td>\n",
       "      <td>83</td>\n",
       "      <td>45</td>\n",
       "      <td>73</td>\n",
       "      <td>161</td>\n",
       "      <td>68</td>\n",
       "      <td>8</td>\n",
       "      <td>142</td>\n",
       "      <td>46</td>\n",
       "      <td>18</td>\n",
       "      <td>144</td>\n",
       "      <td>169</td>\n",
       "      <td>305</td>\n",
       "      <td>179</td>\n",
       "      <td>71</td>\n",
       "      <td>10</td>\n",
       "      <td>3</td>\n",
       "      <td>191</td>\n",
       "      <td>199</td>\n",
       "    </tr>\n",
       "    <tr>\n",
       "      <th>8</th>\n",
       "      <td>76</td>\n",
       "      <td>91</td>\n",
       "      <td>39</td>\n",
       "      <td>83</td>\n",
       "      <td>170</td>\n",
       "      <td>60</td>\n",
       "      <td>8</td>\n",
       "      <td>172</td>\n",
       "      <td>38</td>\n",
       "      <td>21</td>\n",
       "      <td>134</td>\n",
       "      <td>197</td>\n",
       "      <td>445</td>\n",
       "      <td>152</td>\n",
       "      <td>72</td>\n",
       "      <td>0</td>\n",
       "      <td>10</td>\n",
       "      <td>188</td>\n",
       "      <td>194</td>\n",
       "    </tr>\n",
       "    <tr>\n",
       "      <th>9</th>\n",
       "      <td>456</td>\n",
       "      <td>92</td>\n",
       "      <td>43</td>\n",
       "      <td>70</td>\n",
       "      <td>124</td>\n",
       "      <td>52</td>\n",
       "      <td>6</td>\n",
       "      <td>139</td>\n",
       "      <td>49</td>\n",
       "      <td>18</td>\n",
       "      <td>144</td>\n",
       "      <td>164</td>\n",
       "      <td>282</td>\n",
       "      <td>172</td>\n",
       "      <td>79</td>\n",
       "      <td>4</td>\n",
       "      <td>16</td>\n",
       "      <td>183</td>\n",
       "      <td>185</td>\n",
       "    </tr>\n",
       "    <tr>\n",
       "      <th>10</th>\n",
       "      <td>436</td>\n",
       "      <td>93</td>\n",
       "      <td>42</td>\n",
       "      <td>64</td>\n",
       "      <td>123</td>\n",
       "      <td>51</td>\n",
       "      <td>7</td>\n",
       "      <td>135</td>\n",
       "      <td>51</td>\n",
       "      <td>18</td>\n",
       "      <td>144</td>\n",
       "      <td>164</td>\n",
       "      <td>262</td>\n",
       "      <td>155</td>\n",
       "      <td>78</td>\n",
       "      <td>16</td>\n",
       "      <td>12</td>\n",
       "      <td>185</td>\n",
       "      <td>185</td>\n",
       "    </tr>\n",
       "    <tr>\n",
       "      <th>11</th>\n",
       "      <td>281</td>\n",
       "      <td>82</td>\n",
       "      <td>43</td>\n",
       "      <td>73</td>\n",
       "      <td>154</td>\n",
       "      <td>65</td>\n",
       "      <td>7</td>\n",
       "      <td>151</td>\n",
       "      <td>44</td>\n",
       "      <td>19</td>\n",
       "      <td>143</td>\n",
       "      <td>178</td>\n",
       "      <td>341</td>\n",
       "      <td>160</td>\n",
       "      <td>76</td>\n",
       "      <td>5</td>\n",
       "      <td>11</td>\n",
       "      <td>185</td>\n",
       "      <td>189</td>\n",
       "    </tr>\n",
       "    <tr>\n",
       "      <th>12</th>\n",
       "      <td>654</td>\n",
       "      <td>100</td>\n",
       "      <td>47</td>\n",
       "      <td>88</td>\n",
       "      <td>190</td>\n",
       "      <td>60</td>\n",
       "      <td>10</td>\n",
       "      <td>171</td>\n",
       "      <td>38</td>\n",
       "      <td>21</td>\n",
       "      <td>155</td>\n",
       "      <td>186</td>\n",
       "      <td>440</td>\n",
       "      <td>169</td>\n",
       "      <td>59</td>\n",
       "      <td>15</td>\n",
       "      <td>18</td>\n",
       "      <td>201</td>\n",
       "      <td>210</td>\n",
       "    </tr>\n",
       "    <tr>\n",
       "      <th>13</th>\n",
       "      <td>300</td>\n",
       "      <td>106</td>\n",
       "      <td>53</td>\n",
       "      <td>98</td>\n",
       "      <td>193</td>\n",
       "      <td>60</td>\n",
       "      <td>10</td>\n",
       "      <td>215</td>\n",
       "      <td>31</td>\n",
       "      <td>24</td>\n",
       "      <td>169</td>\n",
       "      <td>224</td>\n",
       "      <td>681</td>\n",
       "      <td>218</td>\n",
       "      <td>73</td>\n",
       "      <td>8</td>\n",
       "      <td>21</td>\n",
       "      <td>188</td>\n",
       "      <td>197</td>\n",
       "    </tr>\n",
       "    <tr>\n",
       "      <th>14</th>\n",
       "      <td>620</td>\n",
       "      <td>108</td>\n",
       "      <td>56</td>\n",
       "      <td>103</td>\n",
       "      <td>234</td>\n",
       "      <td>73</td>\n",
       "      <td>10</td>\n",
       "      <td>221</td>\n",
       "      <td>30</td>\n",
       "      <td>25</td>\n",
       "      <td>174</td>\n",
       "      <td>232</td>\n",
       "      <td>718</td>\n",
       "      <td>214</td>\n",
       "      <td>73</td>\n",
       "      <td>8</td>\n",
       "      <td>3</td>\n",
       "      <td>187</td>\n",
       "      <td>197</td>\n",
       "    </tr>\n",
       "  </tbody>\n",
       "</table>\n",
       "</div>"
      ],
      "text/plain": [
       "     0    1   2    3    4   5   6    7   8   9    10   11   12   13  14  15  \\\n",
       "0   828   89  42   66  125  53   7  131  51  18  144  162  254  162  73  10   \n",
       "1   120   89  37   54  119  53   5  134  50  18  127  151  266  146  79  16   \n",
       "2   292   87  42   76  159  65   5  155  42  19  138  184  362  157  76   6   \n",
       "3   287   88  43   84  136  55  11  154  44  19  150  174  350  164  73   6   \n",
       "4   554  113  48   98  208  62   9  203  33  23  151  216  613  183  64  17   \n",
       "5   725   91  37   76  138  55   8  132  51  18  135  157  256  124  69   0   \n",
       "6   410   89  45   77  188  64   9  161  41  20  151  190  390  174  66   4   \n",
       "7   457   83  45   73  161  68   8  142  46  18  144  169  305  179  71  10   \n",
       "8    76   91  39   83  170  60   8  172  38  21  134  197  445  152  72   0   \n",
       "9   456   92  43   70  124  52   6  139  49  18  144  164  282  172  79   4   \n",
       "10  436   93  42   64  123  51   7  135  51  18  144  164  262  155  78  16   \n",
       "11  281   82  43   73  154  65   7  151  44  19  143  178  341  160  76   5   \n",
       "12  654  100  47   88  190  60  10  171  38  21  155  186  440  169  59  15   \n",
       "13  300  106  53   98  193  60  10  215  31  24  169  224  681  218  73   8   \n",
       "14  620  108  56  103  234  73  10  221  30  25  174  232  718  214  73   8   \n",
       "\n",
       "    16   17   18  \n",
       "0   17  188  191  \n",
       "1   14  184  185  \n",
       "2   12  189  193  \n",
       "3    2  185  196  \n",
       "4   29  193  204  \n",
       "5   12  191  192  \n",
       "6    2  194  201  \n",
       "7    3  191  199  \n",
       "8   10  188  194  \n",
       "9   16  183  185  \n",
       "10  12  185  185  \n",
       "11  11  185  189  \n",
       "12  18  201  210  \n",
       "13  21  188  197  \n",
       "14   3  187  197  "
      ]
     },
     "execution_count": 3,
     "metadata": {},
     "output_type": "execute_result"
    }
   ],
   "source": [
    "X_train_pd = pd.DataFrame(X_train)\n",
    "\n",
    "# First 15 rows of our dataset.\n",
    "X_train_pd.head(15)"
   ]
  },
  {
   "cell_type": "markdown",
   "metadata": {
    "nbgrader": {
     "grade": false,
     "grade_id": "cell-98e7d91d77d65fcf",
     "locked": true,
     "schema_version": 2,
     "solution": false
    }
   },
   "source": [
    "Methods `describe` and `info` deliver some useful information."
   ]
  },
  {
   "cell_type": "code",
   "execution_count": 4,
   "metadata": {},
   "outputs": [
    {
     "data": {
      "text/html": [
       "<div>\n",
       "<style scoped>\n",
       "    .dataframe tbody tr th:only-of-type {\n",
       "        vertical-align: middle;\n",
       "    }\n",
       "\n",
       "    .dataframe tbody tr th {\n",
       "        vertical-align: top;\n",
       "    }\n",
       "\n",
       "    .dataframe thead th {\n",
       "        text-align: right;\n",
       "    }\n",
       "</style>\n",
       "<table border=\"1\" class=\"dataframe\">\n",
       "  <thead>\n",
       "    <tr style=\"text-align: right;\">\n",
       "      <th></th>\n",
       "      <th>0</th>\n",
       "      <th>1</th>\n",
       "      <th>2</th>\n",
       "      <th>3</th>\n",
       "      <th>4</th>\n",
       "      <th>5</th>\n",
       "      <th>6</th>\n",
       "      <th>7</th>\n",
       "      <th>8</th>\n",
       "      <th>9</th>\n",
       "      <th>10</th>\n",
       "      <th>11</th>\n",
       "      <th>12</th>\n",
       "      <th>13</th>\n",
       "      <th>14</th>\n",
       "      <th>15</th>\n",
       "      <th>16</th>\n",
       "      <th>17</th>\n",
       "      <th>18</th>\n",
       "    </tr>\n",
       "  </thead>\n",
       "  <tbody>\n",
       "    <tr>\n",
       "      <th>count</th>\n",
       "      <td>549.000000</td>\n",
       "      <td>549.000000</td>\n",
       "      <td>549.000000</td>\n",
       "      <td>549.000000</td>\n",
       "      <td>549.000000</td>\n",
       "      <td>549.000000</td>\n",
       "      <td>549.000000</td>\n",
       "      <td>549.000000</td>\n",
       "      <td>549.000000</td>\n",
       "      <td>549.000000</td>\n",
       "      <td>549.000000</td>\n",
       "      <td>549.000000</td>\n",
       "      <td>549.000000</td>\n",
       "      <td>549.000000</td>\n",
       "      <td>549.000000</td>\n",
       "      <td>549.00000</td>\n",
       "      <td>549.000000</td>\n",
       "      <td>549.000000</td>\n",
       "      <td>549.000000</td>\n",
       "    </tr>\n",
       "    <tr>\n",
       "      <th>mean</th>\n",
       "      <td>424.438980</td>\n",
       "      <td>94.029144</td>\n",
       "      <td>45.120219</td>\n",
       "      <td>82.810565</td>\n",
       "      <td>169.559199</td>\n",
       "      <td>61.697632</td>\n",
       "      <td>8.701275</td>\n",
       "      <td>169.987250</td>\n",
       "      <td>40.701275</td>\n",
       "      <td>20.677596</td>\n",
       "      <td>148.633880</td>\n",
       "      <td>189.812386</td>\n",
       "      <td>445.706740</td>\n",
       "      <td>175.808743</td>\n",
       "      <td>72.508197</td>\n",
       "      <td>6.47541</td>\n",
       "      <td>12.856102</td>\n",
       "      <td>188.914390</td>\n",
       "      <td>195.666667</td>\n",
       "    </tr>\n",
       "    <tr>\n",
       "      <th>std</th>\n",
       "      <td>244.266156</td>\n",
       "      <td>8.270245</td>\n",
       "      <td>6.102241</td>\n",
       "      <td>15.577818</td>\n",
       "      <td>33.350148</td>\n",
       "      <td>8.257247</td>\n",
       "      <td>4.738222</td>\n",
       "      <td>33.691356</td>\n",
       "      <td>7.789546</td>\n",
       "      <td>2.649175</td>\n",
       "      <td>14.516503</td>\n",
       "      <td>31.792199</td>\n",
       "      <td>180.006365</td>\n",
       "      <td>32.474834</td>\n",
       "      <td>7.747523</td>\n",
       "      <td>5.01438</td>\n",
       "      <td>8.995095</td>\n",
       "      <td>6.155375</td>\n",
       "      <td>7.560945</td>\n",
       "    </tr>\n",
       "    <tr>\n",
       "      <th>min</th>\n",
       "      <td>0.000000</td>\n",
       "      <td>73.000000</td>\n",
       "      <td>34.000000</td>\n",
       "      <td>42.000000</td>\n",
       "      <td>105.000000</td>\n",
       "      <td>47.000000</td>\n",
       "      <td>2.000000</td>\n",
       "      <td>114.000000</td>\n",
       "      <td>26.000000</td>\n",
       "      <td>17.000000</td>\n",
       "      <td>118.000000</td>\n",
       "      <td>131.000000</td>\n",
       "      <td>191.000000</td>\n",
       "      <td>109.000000</td>\n",
       "      <td>59.000000</td>\n",
       "      <td>0.00000</td>\n",
       "      <td>0.000000</td>\n",
       "      <td>176.000000</td>\n",
       "      <td>181.000000</td>\n",
       "    </tr>\n",
       "    <tr>\n",
       "      <th>25%</th>\n",
       "      <td>213.000000</td>\n",
       "      <td>88.000000</td>\n",
       "      <td>40.000000</td>\n",
       "      <td>71.000000</td>\n",
       "      <td>142.000000</td>\n",
       "      <td>57.000000</td>\n",
       "      <td>7.000000</td>\n",
       "      <td>148.000000</td>\n",
       "      <td>33.000000</td>\n",
       "      <td>19.000000</td>\n",
       "      <td>138.000000</td>\n",
       "      <td>169.000000</td>\n",
       "      <td>322.000000</td>\n",
       "      <td>152.000000</td>\n",
       "      <td>67.000000</td>\n",
       "      <td>2.00000</td>\n",
       "      <td>6.000000</td>\n",
       "      <td>184.000000</td>\n",
       "      <td>190.000000</td>\n",
       "    </tr>\n",
       "    <tr>\n",
       "      <th>50%</th>\n",
       "      <td>433.000000</td>\n",
       "      <td>93.000000</td>\n",
       "      <td>45.000000</td>\n",
       "      <td>81.000000</td>\n",
       "      <td>169.000000</td>\n",
       "      <td>61.000000</td>\n",
       "      <td>8.000000</td>\n",
       "      <td>157.000000</td>\n",
       "      <td>43.000000</td>\n",
       "      <td>20.000000</td>\n",
       "      <td>146.000000</td>\n",
       "      <td>180.000000</td>\n",
       "      <td>366.000000</td>\n",
       "      <td>174.000000</td>\n",
       "      <td>72.000000</td>\n",
       "      <td>6.00000</td>\n",
       "      <td>11.000000</td>\n",
       "      <td>188.000000</td>\n",
       "      <td>197.000000</td>\n",
       "    </tr>\n",
       "    <tr>\n",
       "      <th>75%</th>\n",
       "      <td>630.000000</td>\n",
       "      <td>100.000000</td>\n",
       "      <td>50.000000</td>\n",
       "      <td>98.000000</td>\n",
       "      <td>195.000000</td>\n",
       "      <td>65.000000</td>\n",
       "      <td>10.000000</td>\n",
       "      <td>201.000000</td>\n",
       "      <td>46.000000</td>\n",
       "      <td>23.000000</td>\n",
       "      <td>161.000000</td>\n",
       "      <td>218.000000</td>\n",
       "      <td>602.000000</td>\n",
       "      <td>198.000000</td>\n",
       "      <td>76.000000</td>\n",
       "      <td>9.00000</td>\n",
       "      <td>19.000000</td>\n",
       "      <td>193.000000</td>\n",
       "      <td>201.000000</td>\n",
       "    </tr>\n",
       "    <tr>\n",
       "      <th>max</th>\n",
       "      <td>845.000000</td>\n",
       "      <td>119.000000</td>\n",
       "      <td>59.000000</td>\n",
       "      <td>112.000000</td>\n",
       "      <td>333.000000</td>\n",
       "      <td>138.000000</td>\n",
       "      <td>52.000000</td>\n",
       "      <td>262.000000</td>\n",
       "      <td>59.000000</td>\n",
       "      <td>28.000000</td>\n",
       "      <td>188.000000</td>\n",
       "      <td>320.000000</td>\n",
       "      <td>998.000000</td>\n",
       "      <td>264.000000</td>\n",
       "      <td>135.000000</td>\n",
       "      <td>22.00000</td>\n",
       "      <td>41.000000</td>\n",
       "      <td>206.000000</td>\n",
       "      <td>211.000000</td>\n",
       "    </tr>\n",
       "  </tbody>\n",
       "</table>\n",
       "</div>"
      ],
      "text/plain": [
       "               0           1           2           3           4           5   \\\n",
       "count  549.000000  549.000000  549.000000  549.000000  549.000000  549.000000   \n",
       "mean   424.438980   94.029144   45.120219   82.810565  169.559199   61.697632   \n",
       "std    244.266156    8.270245    6.102241   15.577818   33.350148    8.257247   \n",
       "min      0.000000   73.000000   34.000000   42.000000  105.000000   47.000000   \n",
       "25%    213.000000   88.000000   40.000000   71.000000  142.000000   57.000000   \n",
       "50%    433.000000   93.000000   45.000000   81.000000  169.000000   61.000000   \n",
       "75%    630.000000  100.000000   50.000000   98.000000  195.000000   65.000000   \n",
       "max    845.000000  119.000000   59.000000  112.000000  333.000000  138.000000   \n",
       "\n",
       "               6           7           8           9           10          11  \\\n",
       "count  549.000000  549.000000  549.000000  549.000000  549.000000  549.000000   \n",
       "mean     8.701275  169.987250   40.701275   20.677596  148.633880  189.812386   \n",
       "std      4.738222   33.691356    7.789546    2.649175   14.516503   31.792199   \n",
       "min      2.000000  114.000000   26.000000   17.000000  118.000000  131.000000   \n",
       "25%      7.000000  148.000000   33.000000   19.000000  138.000000  169.000000   \n",
       "50%      8.000000  157.000000   43.000000   20.000000  146.000000  180.000000   \n",
       "75%     10.000000  201.000000   46.000000   23.000000  161.000000  218.000000   \n",
       "max     52.000000  262.000000   59.000000   28.000000  188.000000  320.000000   \n",
       "\n",
       "               12          13          14         15          16          17  \\\n",
       "count  549.000000  549.000000  549.000000  549.00000  549.000000  549.000000   \n",
       "mean   445.706740  175.808743   72.508197    6.47541   12.856102  188.914390   \n",
       "std    180.006365   32.474834    7.747523    5.01438    8.995095    6.155375   \n",
       "min    191.000000  109.000000   59.000000    0.00000    0.000000  176.000000   \n",
       "25%    322.000000  152.000000   67.000000    2.00000    6.000000  184.000000   \n",
       "50%    366.000000  174.000000   72.000000    6.00000   11.000000  188.000000   \n",
       "75%    602.000000  198.000000   76.000000    9.00000   19.000000  193.000000   \n",
       "max    998.000000  264.000000  135.000000   22.00000   41.000000  206.000000   \n",
       "\n",
       "               18  \n",
       "count  549.000000  \n",
       "mean   195.666667  \n",
       "std      7.560945  \n",
       "min    181.000000  \n",
       "25%    190.000000  \n",
       "50%    197.000000  \n",
       "75%    201.000000  \n",
       "max    211.000000  "
      ]
     },
     "execution_count": 4,
     "metadata": {},
     "output_type": "execute_result"
    }
   ],
   "source": [
    "X_train_pd.describe()"
   ]
  },
  {
   "cell_type": "code",
   "execution_count": 5,
   "metadata": {},
   "outputs": [
    {
     "name": "stdout",
     "output_type": "stream",
     "text": [
      "<class 'pandas.core.frame.DataFrame'>\n",
      "RangeIndex: 549 entries, 0 to 548\n",
      "Data columns (total 19 columns):\n",
      " #   Column  Non-Null Count  Dtype\n",
      "---  ------  --------------  -----\n",
      " 0   0       549 non-null    int32\n",
      " 1   1       549 non-null    int32\n",
      " 2   2       549 non-null    int32\n",
      " 3   3       549 non-null    int32\n",
      " 4   4       549 non-null    int32\n",
      " 5   5       549 non-null    int32\n",
      " 6   6       549 non-null    int32\n",
      " 7   7       549 non-null    int32\n",
      " 8   8       549 non-null    int32\n",
      " 9   9       549 non-null    int32\n",
      " 10  10      549 non-null    int32\n",
      " 11  11      549 non-null    int32\n",
      " 12  12      549 non-null    int32\n",
      " 13  13      549 non-null    int32\n",
      " 14  14      549 non-null    int32\n",
      " 15  15      549 non-null    int32\n",
      " 16  16      549 non-null    int32\n",
      " 17  17      549 non-null    int32\n",
      " 18  18      549 non-null    int32\n",
      "dtypes: int32(19)\n",
      "memory usage: 40.9 KB\n"
     ]
    }
   ],
   "source": [
    "X_train_pd.info()"
   ]
  },
  {
   "cell_type": "markdown",
   "metadata": {
    "nbgrader": {
     "grade": false,
     "grade_id": "cell-be844269be69c387",
     "locked": true,
     "schema_version": 2,
     "solution": false
    }
   },
   "source": [
    "### 2. Machine Learning pipeline\n",
    "Here you are supposed to perform the desired transformations. Please, explain your results briefly after each task."
   ]
  },
  {
   "cell_type": "markdown",
   "metadata": {},
   "source": [
    "#### 2.0. Data preprocessing\n",
    "* Make some transformations of the dataset (if necessary). Briefly explain the transformations"
   ]
  },
  {
   "cell_type": "code",
   "execution_count": 6,
   "metadata": {
    "nbgrader": {
     "grade": true,
     "grade_id": "cell-a1514aa189a49fca",
     "locked": false,
     "points": 15,
     "schema_version": 2,
     "solution": true
    }
   },
   "outputs": [],
   "source": [
    "# scale data to normalize\n",
    "from sklearn.preprocessing import StandardScaler\n",
    "\n",
    "scaled_features = StandardScaler()\n",
    "X_train_normed = scaled_features.fit_transform(X_train)\n",
    "X_test_normed = scaled_features.transform(X_test)"
   ]
  },
  {
   "cell_type": "markdown",
   "metadata": {},
   "source": [
    "#### 2.1. Basic logistic regression\n",
    "* Find optimal hyperparameters for logistic regression with cross-validation on the `train` data (small grid/random search is enough, no need to find the *best* parameters).\n",
    "\n",
    "* Estimate the model quality with `f1` and `accuracy` scores.\n",
    "* Plot a ROC-curve for the trained model. For the multiclass case you might use `scikitplot` library (e.g. `scikitplot.metrics.plot_roc(test_labels, predicted_proba)`).\n",
    "\n",
    "*Note: please, use the following hyperparameters for logistic regression: `multi_class='multinomial'`, `solver='saga'` `tol=1e-3` and ` max_iter=500`.*"
   ]
  },
  {
   "cell_type": "code",
   "execution_count": 7,
   "metadata": {
    "nbgrader": {
     "grade": true,
     "grade_id": "cell-1dd5ad5d0845cbbb",
     "locked": false,
     "points": 5,
     "schema_version": 2,
     "solution": true
    }
   },
   "outputs": [],
   "source": [
    "from sklearn import model_selection, linear_model, metrics\n",
    "log_regressor = linear_model.LogisticRegression(multi_class='multinomial', solver='saga', tol=1e-3, max_iter=500)"
   ]
  },
  {
   "cell_type": "code",
   "execution_count": 8,
   "metadata": {},
   "outputs": [
    {
     "name": "stdout",
     "output_type": "stream",
     "text": [
      "Best: 0.708586 using {'C': 100}\n"
     ]
    }
   ],
   "source": [
    "c_values = [100, 10, 1.0, 0.1, 0.01]\n",
    "grid_search = model_selection.GridSearchCV(estimator=log_regressor, param_grid=dict(C=c_values), n_jobs=-1, cv=10, scoring='accuracy',error_score=0)\n",
    "grid_result = grid_search.fit(X_train, y_train)\n",
    "\n",
    "print(\"Best: %f using %s\" % (grid_result.best_score_, grid_result.best_params_))\n"
   ]
  },
  {
   "cell_type": "code",
   "execution_count": 9,
   "metadata": {},
   "outputs": [],
   "source": [
    "log_regressor = linear_model.LogisticRegression(C=grid_result.best_params_['C'], multi_class='multinomial', solver='saga', tol=1e-3, max_iter=500)\n",
    "log_regressor.fit(X_train, y_train)\n",
    "lr_proba_predictions = log_regressor.predict_proba(X_test)\n",
    "lr_predictions = log_regressor.predict(X_test)\n",
    "labels = list(tuple(y_train))"
   ]
  },
  {
   "cell_type": "code",
   "execution_count": 10,
   "metadata": {},
   "outputs": [
    {
     "name": "stdout",
     "output_type": "stream",
     "text": [
      "0.7003367003367004\n",
      "0.6848240044498763\n"
     ]
    }
   ],
   "source": [
    "print(metrics.accuracy_score(y_test, lr_predictions))\n",
    "print(metrics.f1_score(y_test, lr_predictions, labels=labels, average='weighted'))"
   ]
  },
  {
   "cell_type": "code",
   "execution_count": 11,
   "metadata": {},
   "outputs": [],
   "source": [
    "# You might use this command to install scikit-plot. \n",
    "# Warning, if you a running locally, don't call pip from within jupyter, call it from terminal in the corresponding \n",
    "# virtual environment instead\n",
    "\n",
    "# ! pip install scikit-plot"
   ]
  },
  {
   "cell_type": "code",
   "execution_count": 12,
   "metadata": {},
   "outputs": [
    {
     "data": {
      "text/plain": [
       "<AxesSubplot:title={'center':'ROC Curves'}, xlabel='False Positive Rate', ylabel='True Positive Rate'>"
      ]
     },
     "execution_count": 12,
     "metadata": {},
     "output_type": "execute_result"
    },
    {
     "data": {
      "image/png": "[encoded data removed]",
      "text/plain": [
       "<Figure size 432x288 with 1 Axes>"
      ]
     },
     "metadata": {
      "needs_background": "light"
     },
     "output_type": "display_data"
    }
   ],
   "source": [
    "import scikitplot\n",
    "scikitplot.metrics.plot_roc(y_test, lr_proba_predictions)"
   ]
  },
  {
   "cell_type": "markdown",
   "metadata": {},
   "source": [
    "#### 2.2. PCA: explained variance plot\n",
    "* Apply the PCA to the train part of the data. Build the explaided variance plot. "
   ]
  },
  {
   "cell_type": "code",
   "execution_count": 13,
   "metadata": {
    "nbgrader": {
     "grade": true,
     "grade_id": "cell-c6c614740bce090e",
     "locked": false,
     "points": 10,
     "schema_version": 2,
     "solution": true
    }
   },
   "outputs": [
    {
     "data": {
      "image/png": "[encoded data removed]",
      "text/plain": [
       "<Figure size 432x288 with 1 Axes>"
      ]
     },
     "metadata": {
      "needs_background": "light"
     },
     "output_type": "display_data"
    }
   ],
   "source": [
    "### YOUR CODE HERE\n",
    "# Normalize data to produce a reasonable covariance analysis\n",
    "# therefore put all attributes in the range between 0 and 1\n",
    "\n",
    "from sklearn.preprocessing import MinMaxScaler\n",
    "import matplotlib.pyplot as plt\n",
    "scaler = MinMaxScaler(feature_range=[0, 1])\n",
    "\n",
    "X_train_normed = scaler.fit_transform(X_train)\n",
    "X_test_normed = scaler.transform(X_test)\n",
    "\n",
    "\n",
    "from sklearn.decomposition import PCA\n",
    "pca = PCA().fit(X_train_normed)\n",
    "\n",
    "# Plot the сumulative сum of the explained variance\n",
    "plt.figure()\n",
    "plt.plot(np.cumsum(pca.explained_variance_ratio_))\n",
    "plt.xlabel('Number of Components')\n",
    "plt.ylabel('Variance (%)')\n",
    "plt.title('X_train Dataset Explained Variance')\n",
    "plt.show()"
   ]
  },
  {
   "cell_type": "markdown",
   "metadata": {
    "nbgrader": {
     "grade": false,
     "grade_id": "cell-0c1fe666f52fe53c",
     "locked": true,
     "schema_version": 2,
     "solution": false
    }
   },
   "source": [
    "#### 2.3. PCA trasformation\n",
    "* Select the appropriate number of components. Briefly explain your choice. Should you normalize the data?\n",
    "\n",
    "*Use `fit` and `transform` methods to transform the `train` and `test` parts.*"
   ]
  },
  {
   "cell_type": "code",
   "execution_count": 14,
   "metadata": {
    "nbgrader": {
     "grade": true,
     "grade_id": "cell-96ab18d96473ef71",
     "locked": false,
     "points": 5,
     "schema_version": 2,
     "solution": true
    }
   },
   "outputs": [],
   "source": [
    "### YOUR CODE HERE\n",
    "# 9 components are enough\n",
    "\n",
    "pca = PCA(n_components=9)\n",
    "X_train_pca = pca.fit_transform(X_train_normed)\n",
    "X_test_pca = pca.transform(X_test_normed)"
   ]
  },
  {
   "cell_type": "markdown",
   "metadata": {},
   "source": [
    "**Note: From this point `sklearn` [Pipeline](https://scikit-learn.org/stable/modules/compose.html) might be useful to perform transformations on the data. Refer to the [docs](https://scikit-learn.org/stable/modules/generated/sklearn.pipeline.Pipeline.html) for more information.**"
   ]
  },
  {
   "cell_type": "markdown",
   "metadata": {
    "nbgrader": {
     "grade": false,
     "grade_id": "cell-d28b58a35c94e988",
     "locked": true,
     "schema_version": 2,
     "solution": false
    }
   },
   "source": [
    "#### 2.4. Logistic regression on PCA-preprocessed data.\n",
    "* Find optimal hyperparameters for logistic regression with cross-validation on the transformed by PCA `train` data.\n",
    "\n",
    "* Estimate the model quality with `f1` and `accuracy` scores.\n",
    "* Plot a ROC-curve for the trained model. For the multiclass case you might use `scikitplot` library (e.g. `scikitplot.metrics.plot_roc(test_labels, predicted_proba)`).\n",
    "\n",
    "*Note: please, use the following hyperparameters for logistic regression: `multi_class='multinomial'`, `solver='saga'` and `tol=1e-3`*"
   ]
  },
  {
   "cell_type": "code",
   "execution_count": 15,
   "metadata": {
    "nbgrader": {
     "grade": true,
     "grade_id": "cell-12d53ea45258fa82",
     "locked": false,
     "points": 5,
     "schema_version": 2,
     "solution": true
    }
   },
   "outputs": [
    {
     "name": "stdout",
     "output_type": "stream",
     "text": [
      "Best score:  0.715746455379483\n",
      "Best parameters:  {'C': 10}\n"
     ]
    }
   ],
   "source": [
    "### YOUR CODE HERE\n",
    "log_regressor = linear_model.LogisticRegression(multi_class='multinomial', solver='saga', tol=1e-3, max_iter=1000)\n",
    "\n",
    "param_grid = {'C': [0.001, 0.01, 0.1, 1.0, 10, 15, 20, 30, 50, 100, 150, 200, 500, 1000] }\n",
    "grid = model_selection.GridSearchCV(estimator=log_regressor,\n",
    "                    param_grid=param_grid,\n",
    "                    cv=5)\n",
    "grid_result = grid.fit(X_train_pca, y_train)\n",
    "\n",
    "print('Best score: ', grid_result.best_score_)\n",
    "print('Best parameters: ', grid_result.best_params_)"
   ]
  },
  {
   "cell_type": "code",
   "execution_count": 16,
   "metadata": {},
   "outputs": [
    {
     "name": "stdout",
     "output_type": "stream",
     "text": [
      "Accuracy test score:  0.6599326599326599\n",
      "              precision    recall  f1-score   support\n",
      "\n",
      "         bus       0.72      0.82      0.77        77\n",
      "        opel       0.52      0.52      0.52        73\n",
      "        saab       0.49      0.40      0.44        81\n",
      "         van       0.88      0.95      0.91        66\n",
      "\n",
      "    accuracy                           0.66       297\n",
      "   macro avg       0.65      0.67      0.66       297\n",
      "weighted avg       0.64      0.66      0.65       297\n",
      "\n"
     ]
    },
    {
     "data": {
      "image/png": "[encoded data removed]",
      "text/plain": [
       "<Figure size 432x288 with 1 Axes>"
      ]
     },
     "metadata": {
      "needs_background": "light"
     },
     "output_type": "display_data"
    }
   ],
   "source": [
    "import scikitplot as skplt\n",
    "\n",
    "log_regressor = linear_model.LogisticRegression(C=grid_result.best_params_['C'], multi_class='multinomial', solver='saga', tol=1e-3, max_iter=500)\n",
    "\n",
    "clf = log_regressor.fit(X_train_pca, y_train)\n",
    "print(\"Accuracy test score: \", clf.score(X_test_pca, y_test))\n",
    "\n",
    "y_pred = log_regressor.predict(X_test_pca)\n",
    "print(metrics.classification_report(y_test, y_pred))\n",
    "\n",
    "y_probas = log_regressor.predict_proba(X_test_pca)\n",
    "skplt.metrics.plot_roc(y_test, y_probas)\n",
    "plt.show()"
   ]
  },
  {
   "cell_type": "markdown",
   "metadata": {
    "nbgrader": {
     "grade": false,
     "grade_id": "cell-4fbf16c64076e139",
     "locked": true,
     "schema_version": 2,
     "solution": false
    }
   },
   "source": [
    "#### 2.5. Decision tree\n",
    "* Now train a desicion tree on the same data. Find optimal tree depth (`max_depth`) using cross-validation.\n",
    "\n",
    "* Measure the model quality using the same metrics you used above."
   ]
  },
  {
   "cell_type": "code",
   "execution_count": 17,
   "metadata": {
    "nbgrader": {
     "grade": true,
     "grade_id": "cell-748ed20b51c67fab",
     "locked": false,
     "points": 15,
     "schema_version": 2,
     "solution": true
    }
   },
   "outputs": [
    {
     "name": "stdout",
     "output_type": "stream",
     "text": [
      "Best Score:  0.6630025020850708\n",
      "Best Params:  {'max_depth': 16}\n"
     ]
    }
   ],
   "source": [
    "from sklearn.tree import DecisionTreeClassifier\n",
    "\n",
    "# YOUR CODE HERE\n",
    "\n",
    "decTree = DecisionTreeClassifier(random_state=0)\n",
    "\n",
    "param_grid = {'max_depth': [1, 2, 4, 8, 16, 32, 64, 128, 25, 80]}\n",
    "grid = model_selection.GridSearchCV(estimator=decTree,\n",
    "                    param_grid=param_grid, \n",
    "                    cv=5)\n",
    "grid_result = grid.fit(X_train_pca, y_train)\n",
    "\n",
    "print('Best Score: ', grid_result.best_score_)\n",
    "print('Best Params: ', grid_result.best_params_)"
   ]
  },
  {
   "cell_type": "code",
   "execution_count": 18,
   "metadata": {},
   "outputs": [
    {
     "name": "stdout",
     "output_type": "stream",
     "text": [
      "Accuracy test score:  0.5387205387205387\n",
      "              precision    recall  f1-score   support\n",
      "\n",
      "         bus       0.73      0.70      0.72        77\n",
      "        opel       0.37      0.45      0.41        73\n",
      "        saab       0.36      0.32      0.34        81\n",
      "         van       0.76      0.71      0.73        66\n",
      "\n",
      "    accuracy                           0.54       297\n",
      "   macro avg       0.55      0.55      0.55       297\n",
      "weighted avg       0.55      0.54      0.54       297\n",
      "\n"
     ]
    }
   ],
   "source": [
    "decTree = DecisionTreeClassifier(max_depth=grid_result.best_params_['max_depth'])\n",
    "\n",
    "clf = decTree.fit(X_train_pca, y_train)\n",
    "print(\"Accuracy test score: \", clf.score(X_test_pca, y_test))\n",
    "\n",
    "y_pred = decTree.predict(X_test_pca)\n",
    "print(metrics.classification_report(y_test, y_pred))"
   ]
  },
  {
   "cell_type": "markdown",
   "metadata": {
    "nbgrader": {
     "grade": false,
     "grade_id": "cell-9eadd4d8a03ae67a",
     "locked": true,
     "schema_version": 2,
     "solution": false
    }
   },
   "source": [
    "#### 2.6. Bagging.\n",
    "Here starts the ensembling part.\n",
    "\n",
    "First we will use the __Bagging__ approach. Build an ensemble of $N$ algorithms varying N from $N_{min}=2$ to $N_{max}=100$ (with step 5).\n",
    "\n",
    "We will build two ensembles: of logistic regressions and of decision trees.\n",
    "\n",
    "*Comment: each ensemble should be constructed from models of the same family, so logistic regressions should not be mixed up with decision trees.*\n",
    "\n",
    "\n",
    "*Hint 1: To build a __Bagging__ ensebmle varying the ensemble size efficiently you might generate $N_{max}$ subsets of `train` data (of the same size as the original dataset) using bootstrap procedure once. Then you train a new instance of logistic regression/decision tree with optimal hyperparameters you estimated before on each subset (so you train it from scratch). Finally, to get an ensemble of $N$ models you average the $N$ out of $N_{max}$ models predictions.*\n",
    "\n",
    "*Hint 2: sklearn might help you with this taks. Some appropriate function/class might be out there.*\n",
    "\n",
    "* Plot `f1` and `accuracy` scores plots w.r.t. the size of the ensemble.\n",
    "\n",
    "* Briefly analyse the plot. What is the optimal number of algorithms? Explain your answer.\n",
    "\n",
    "* How do you think, are the hyperparameters for the decision trees you found in 2.5 optimal for trees used in ensemble? "
   ]
  },
  {
   "cell_type": "code",
   "execution_count": 19,
   "metadata": {
    "nbgrader": {
     "grade": true,
     "grade_id": "cell-8fc95a2b206bdae1",
     "locked": false,
     "points": 35,
     "schema_version": 2,
     "solution": true
    }
   },
   "outputs": [],
   "source": [
    "# YOUR CODE HERE"
   ]
  },
  {
   "cell_type": "code",
   "execution_count": 20,
   "metadata": {},
   "outputs": [],
   "source": [
    "from sklearn.ensemble import BaggingClassifier\n",
    "from sklearn.metrics import f1_score"
   ]
  },
  {
   "cell_type": "code",
   "execution_count": 21,
   "metadata": {},
   "outputs": [
    {
     "data": {
      "image/png": "[encoded data removed]",
      "text/plain": [
       "<Figure size 432x288 with 1 Axes>"
      ]
     },
     "metadata": {
      "needs_background": "light"
     },
     "output_type": "display_data"
    }
   ],
   "source": [
    "estimators = list(range(2, 100, 5))\n",
    "accuracy = []\n",
    "f1 = []\n",
    "\n",
    "for n_estimators in estimators:\n",
    "    decTree_clf = BaggingClassifier(DecisionTreeClassifier(max_depth=grid_result.best_params_['max_depth']),\n",
    "                                   n_estimators=n_estimators)\n",
    "    decTree_clf.fit(X_train, y_train)\n",
    "    \n",
    "    acc = decTree_clf.score(X_test, y_test)\n",
    "    accuracy.append(acc)\n",
    "    \n",
    "    y_pred = decTree_clf.predict(X_test)\n",
    "    f1_sc = f1_score(y_test, y_pred, average=\"macro\")\n",
    "    f1.append(f1_sc)\n",
    "\n",
    "plt.plot(estimators, accuracy, label=\"Accuracy Label\")\n",
    "plt.plot(estimators, f1, label=\"f1\")\n",
    "plt.xlabel(\"Number of estimators\")\n",
    "plt.ylabel(\"Score\")\n",
    "plt.show()"
   ]
  },
  {
   "cell_type": "markdown",
   "metadata": {
    "nbgrader": {
     "grade": false,
     "grade_id": "cell-241b7691ab44cbfb",
     "locked": true,
     "schema_version": 2,
     "solution": false
    }
   },
   "source": [
    "#### 2.7. Random Forest\n",
    "Now we will work with the Random Forest (its `sklearn` implementation).\n",
    "\n",
    "* * Plot `f1` and `accuracy` scores plots w.r.t. the number of trees in Random Forest.\n",
    "\n",
    "* What is the optimal number of trees you've got? Is it different from the optimal number of logistic regressions/decision trees in 2.6? Explain the results briefly."
   ]
  },
  {
   "cell_type": "code",
   "execution_count": 22,
   "metadata": {
    "nbgrader": {
     "grade": true,
     "grade_id": "cell-888755d0f3d91620",
     "locked": false,
     "points": 15,
     "schema_version": 2,
     "solution": true
    }
   },
   "outputs": [
    {
     "data": {
      "text/plain": [
       "Text(0, 0.5, 'score')"
      ]
     },
     "execution_count": 22,
     "metadata": {},
     "output_type": "execute_result"
    },
    {
     "data": {
      "image/png": "[encoded data removed]",
      "text/plain": [
       "<Figure size 432x288 with 1 Axes>"
      ]
     },
     "metadata": {
      "needs_background": "light"
     },
     "output_type": "display_data"
    }
   ],
   "source": [
    "from sklearn.ensemble import RandomForestClassifier\n",
    "\n",
    "# YOUR CODE HERE\n",
    "\n",
    "\n",
    "alg_num_array = np.arange(1, 40)\n",
    "accuracy_score_list = []\n",
    "f1_score_list = []\n",
    "for alg_num in alg_num_array:\n",
    "    clf = RandomForestClassifier(n_estimators=alg_num)\n",
    "    best_clf = clf.fit(X_train_pca, y_train)\n",
    "    y_pred = best_clf.predict(X_test_pca)\n",
    "    accuracy_score_list.append(metrics.accuracy_score(y_test, y_pred))\n",
    "    f1_score_list.append(metrics.f1_score(y_test, y_pred, average='weighted'))\n",
    "    \n",
    "plt.plot(alg_num_array, np.array(accuracy_score_list), label='accuracy label')\n",
    "plt.plot(alg_num_array, np.array(f1_score_list), label='f1 accuracy label')\n",
    "plt.legend()\n",
    "plt.xlabel('number of algorithms')\n",
    "plt.ylabel('score')"
   ]
  },
  {
   "cell_type": "markdown",
   "metadata": {
    "nbgrader": {
     "grade": false,
     "grade_id": "cell-99191c0852538d4d",
     "locked": true,
     "schema_version": 2,
     "solution": false
    }
   },
   "source": [
    "#### 2.8. Learning curve\n",
    "Your goal is to estimate, how does the model behaviour change with the increase of the `train` dataset size.\n",
    "\n",
    "* Split the training data into 10 equal (almost) parts. Then train the models from above (Logistic regression, Desicion Tree, Random Forest) with optimal hyperparameters you have selected on 1 part, 2 parts (combined, so the train size in increased by 2 times), 3 parts and so on.\n",
    "\n",
    "* Build a plot of `accuracy` and `f1` scores on `test` part, varying the `train` dataset size (so the axes will be score - dataset size.\n",
    "\n",
    "* Analyse the final plot. Can you make any conlusions using it? "
   ]
  },
  {
   "cell_type": "code",
   "execution_count": 23,
   "metadata": {
    "nbgrader": {
     "grade": true,
     "grade_id": "cell-e39bc7e7dff61ff9",
     "locked": false,
     "points": 15,
     "schema_version": 2,
     "solution": true
    }
   },
   "outputs": [],
   "source": [
    "# YOUR CODE HERE\n",
    "\n",
    "X_train = np.vstack((X_train_pca, X_train_pca[-1]))\n",
    "y_train_stacked = np.hstack((y_train, y_train[-1]))\n",
    "\n",
    "splitted_train_data = np.split(X_train, 10)\n",
    "splitted_train_y = np.split(y_train_stacked, 10)\n",
    "\n",
    "dataset_size = np.linspace(1, 10, 10, dtype=int)\n",
    "regr_accuracy_list = []\n",
    "tree_accuracy_list = []\n",
    "frst_accuracy_list = []\n",
    "regr_f1_list = []\n",
    "tree_f1_list = []\n",
    "frst_f1_list = []\n",
    "\n",
    "for size in dataset_size:\n",
    "    # create train dataset\n",
    "    dataset = splitted_train_data[0]\n",
    "    answers = splitted_train_y[0]\n",
    "    for i in range(1, size):\n",
    "        dataset = np.vstack((dataset, splitted_train_data[i]))\n",
    "        answers = np.hstack((answers, splitted_train_y[i]))\n",
    "    \n",
    "    #fit data\n",
    "    log_model = linear_model.LogisticRegression(multi_class='multinomial', solver='saga', tol=1e-3)\n",
    "    decision_tree = DecisionTreeClassifier(max_depth=16)\n",
    "    random_forest = RandomForestClassifier(n_estimators=15)\n",
    "    log_model.fit(dataset, answers)\n",
    "    decision_tree.fit(dataset, answers)\n",
    "    random_forest.fit(dataset, answers)\n",
    "    \n",
    "    # predict and compute metrics\n",
    "    regr_accuracy_list.append(metrics.accuracy_score(y_test, log_model.predict(X_test_pca)))\n",
    "    tree_accuracy_list.append(metrics.accuracy_score(y_test, decision_tree.predict(X_test_pca)))\n",
    "    frst_accuracy_list.append(metrics.accuracy_score(y_test, random_forest.predict(X_test_pca)))\n",
    "    regr_f1_list.append(metrics.f1_score(y_test, log_model.predict(X_test_pca), average='weighted'))\n",
    "    tree_f1_list.append(metrics.f1_score(y_test, decision_tree.predict(X_test_pca), average='weighted'))\n",
    "    frst_f1_list.append(metrics.f1_score(y_test, random_forest.predict(X_test_pca), average='weighted'))\n"
   ]
  },
  {
   "cell_type": "code",
   "execution_count": 24,
   "metadata": {},
   "outputs": [
    {
     "data": {
      "text/plain": [
       "<matplotlib.legend.Legend at 0x237261f4640>"
      ]
     },
     "execution_count": 24,
     "metadata": {},
     "output_type": "execute_result"
    },
    {
     "data": {
      "image/png": "[encoded data removed]",
      "text/plain": [
       "<Figure size 432x288 with 1 Axes>"
      ]
     },
     "metadata": {
      "needs_background": "light"
     },
     "output_type": "display_data"
    }
   ],
   "source": [
    "plt.plot(dataset_size, regr_accuracy_list, label='logistic_regression')\n",
    "plt.plot(dataset_size, tree_accuracy_list, label='decision tree')\n",
    "plt.plot(dataset_size, frst_accuracy_list, label='random forest')\n",
    "plt.xlabel('Training set size')\n",
    "plt.ylabel('accuracy score')\n",
    "plt.legend()"
   ]
  },
  {
   "cell_type": "code",
   "execution_count": 25,
   "metadata": {},
   "outputs": [
    {
     "data": {
      "text/plain": [
       "<matplotlib.legend.Legend at 0x2372624ffa0>"
      ]
     },
     "execution_count": 25,
     "metadata": {},
     "output_type": "execute_result"
    },
    {
     "data": {
      "image/png": "[encoded data removed]",
      "text/plain": [
       "<Figure size 432x288 with 1 Axes>"
      ]
     },
     "metadata": {
      "needs_background": "light"
     },
     "output_type": "display_data"
    }
   ],
   "source": [
    "plt.plot(dataset_size, regr_f1_list, label='logistic_regression')\n",
    "plt.plot(dataset_size, tree_f1_list, label='decision tree')\n",
    "plt.plot(dataset_size, frst_f1_list, label='random forest')\n",
    "plt.xlabel('Training set size')\n",
    "plt.ylabel('f1 score')\n",
    "plt.legend()"
   ]
  },
  {
   "cell_type": "markdown",
   "metadata": {},
   "source": [
    "As we can see the quality of the model prediction increases with the growth of the training sample"
   ]
  }
 ],
 "metadata": {
  "celltoolbar": "Create Assignment",
  "kernelspec": {
   "display_name": "Python 3",
   "language": "python",
   "name": "python3"
  },
  "language_info": {
   "codemirror_mode": {
    "name": "ipython",
    "version": 3
   },
   "file_extension": ".py",
   "mimetype": "text/x-python",
   "name": "python",
   "nbconvert_exporter": "python",
   "pygments_lexer": "ipython3",
   "version": "3.8.6rc1"
  },
  "toc": {
   "base_numbering": 1,
   "nav_menu": {},
   "number_sections": false,
   "sideBar": true,
   "skip_h1_title": false,
   "title_cell": "Table of Contents",
   "title_sidebar": "Contents",
   "toc_cell": false,
   "toc_position": {},
   "toc_section_display": true,
   "toc_window_display": false
  }
 },
 "nbformat": 4,
 "nbformat_minor": 4
}
